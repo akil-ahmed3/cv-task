{
 "cells": [
  {
   "cell_type": "code",
   "execution_count": 6,
   "metadata": {
    "tags": []
   },
   "outputs": [],
   "source": [
    "import json \n",
    "import pdftotext\n",
    "import pandas as pd\n",
    "import os"
   ]
  },
  {
   "cell_type": "code",
   "execution_count": 3,
   "metadata": {},
   "outputs": [],
   "source": [
    " # Load your PDF\n",
    "# with open(\"Target.pdf\", \"rb\") as f:\n",
    "#     pdf = pdftotext.PDF(f)\n",
    " \n",
    "# # Save all text to a txt file.\n",
    "# with open('output.txt', 'w') as f:\n",
    "#     f.write(\"\\n\".join(pdf))"
   ]
  },
  {
   "cell_type": "code",
   "execution_count": 47,
   "metadata": {
    "tags": []
   },
   "outputs": [
    {
     "output_type": "stream",
     "name": "stdout",
     "text": "Profile2.pdf\nProfile.pdf\nProfile1.pdf\n"
    },
    {
     "output_type": "execute_result",
     "data": {
      "text/plain": "                                                data\n0  consultation.caphike@gmail./nJayashree Sadhu/n...\n1  Imtiaz Ahmed/nwww.linkedin.com/in/imtiaz1729 S...\n2  +91 9958457590 (Mobile)/nJatin Bumbra/njatinbu...",
      "text/html": "<div>\n<style scoped>\n    .dataframe tbody tr th:only-of-type {\n        vertical-align: middle;\n    }\n\n    .dataframe tbody tr th {\n        vertical-align: top;\n    }\n\n    .dataframe thead th {\n        text-align: right;\n    }\n</style>\n<table border=\"1\" class=\"dataframe\">\n  <thead>\n    <tr style=\"text-align: right;\">\n      <th></th>\n      <th>data</th>\n    </tr>\n  </thead>\n  <tbody>\n    <tr>\n      <th>0</th>\n      <td>consultation.caphike@gmail./nJayashree Sadhu/n...</td>\n    </tr>\n    <tr>\n      <th>1</th>\n      <td>Imtiaz Ahmed/nwww.linkedin.com/in/imtiaz1729 S...</td>\n    </tr>\n    <tr>\n      <th>2</th>\n      <td>+91 9958457590 (Mobile)/nJatin Bumbra/njatinbu...</td>\n    </tr>\n  </tbody>\n</table>\n</div>"
     },
     "metadata": {},
     "execution_count": 47
    }
   ],
   "source": [
    "data = pd.DataFrame()\n",
    "for filename in os.listdir(\"./profiles/\"):\n",
    "    if filename.endswith(\".pdf\"): \n",
    "         # print(os.path.join(directory, filename))\n",
    "        with open(\"./profiles/\" + filename, \"rb\") as f:\n",
    "             pdf = pdftotext.PDF(f)\n",
    " \n",
    "      # Save all text to a txt file.\n",
    "        with open('./profiles/output.txt', 'w') as f:\n",
    "            f.write(\"\\n\".join(pdf))\n",
    "\n",
    "        print(filename)\n",
    "        df = pd.read_csv(\"./profiles/output.txt\", delimiter='/n')\n",
    "        df.to_csv(filename + '.csv')\n",
    "        dff = pd.read_csv(filename + '.csv')\n",
    "        '/n'.join(dff.Contact)\n",
    "        data = data.append({'data': '/n'.join(dff.Contact)}, ignore_index=True)\n",
    "        os.remove(filename + '.csv')\n",
    "        os.remove(\"./profiles/output.txt\")\n",
    "\n",
    "        # print(dff)\n",
    "        continue\n",
    "    else:\n",
    "        continue\n",
    "data.to_csv(\"data.csv\")"
   ]
  },
  {
   "cell_type": "code",
   "execution_count": 22,
   "metadata": {},
   "outputs": [],
   "source": [
    "df = pd.read_csv(\"./profiles/output.txt\",delimiter='/n')\n",
    "df.to_csv('./profiles/output.csv')\n",
    "dff = pd.read_csv(\"./profiles/output.csv\")"
   ]
  },
  {
   "cell_type": "code",
   "execution_count": null,
   "metadata": {},
   "outputs": [],
   "source": []
  },
  {
   "cell_type": "code",
   "execution_count": null,
   "metadata": {},
   "outputs": [],
   "source": []
  }
 ],
 "metadata": {
  "kernelspec": {
   "display_name": "Python 3",
   "language": "python",
   "name": "python3"
  },
  "language_info": {
   "codemirror_mode": {
    "name": "ipython",
    "version": 3
   },
   "file_extension": ".py",
   "mimetype": "text/x-python",
   "name": "python",
   "nbconvert_exporter": "python",
   "pygments_lexer": "ipython3",
   "version": "3.7.6-final"
  }
 },
 "nbformat": 4,
 "nbformat_minor": 2
}