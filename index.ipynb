{
 "cells": [
  {
   "cell_type": "code",
   "execution_count": 124,
   "metadata": {
    "tags": []
   },
   "outputs": [
    {
     "name": "stderr",
     "output_type": "stream",
     "text": [
      "[nltk_data] Downloading package punkt to /home/tesla/nltk_data...\n",
      "[nltk_data]   Package punkt is already up-to-date!\n"
     ]
    }
   ],
   "source": [
    "import json \n",
    "import pdftotext\n",
    "import pandas as pd\n",
    "nltk.download('punkt')\n",
    "import os\n",
    "\n",
    "from sklearn.feature_extraction.text import TfidfTransformer\n",
    "import io\n",
    "from collections import Counter\n",
    "\n",
    "import numpy as np\n",
    "from sklearn.feature_extraction.text import CountVectorizer"
   ]
  },
  {
   "cell_type": "code",
   "execution_count": 132,
   "metadata": {
    "tags": []
   },
   "outputs": [
    {
     "name": "stdout",
     "output_type": "stream",
     "text": [
      "Profile2.pdf\n",
      "Profile.pdf\n",
      "Profile1.pdf\n"
     ]
    },
    {
     "name": "stderr",
     "output_type": "stream",
     "text": [
      "/home/tesla/anaconda3/lib/python3.7/site-packages/ipykernel_launcher.py:13: ParserWarning: Falling back to the 'python' engine because the 'c' engine does not support regex separators (separators > 1 char and different from '\\s+' are interpreted as regex); you can avoid this warning by specifying engine='python'.\n",
      "  del sys.path[0]\n"
     ]
    }
   ],
   "source": [
    "data = pd.DataFrame()\n",
    "for filename in os.listdir(\"./profiles/\"):\n",
    "    if filename.endswith(\".pdf\"): \n",
    "\\        with open(\"./profiles/\" + filename, \"rb\") as f:\n",
    "             pdf = pdftotext.PDF(f)\n",
    " \n",
    "        with open('./profiles/output.txt', 'w') as f:\n",
    "            f.write(\"\\n\".join(pdf))\n",
    "\n",
    "        print(filename)\n",
    "        df = pd.read_csv(\"./profiles/output.txt\", delimiter='/n')\n",
    "        df.to_csv(filename + '.csv')\n",
    "        dff = pd.read_csv(filename + '.csv')\n",
    "        ','.join(dff.Contact)\n",
    "        data = data.append({'data': ', '.join(dff.Contact)}, ignore_index=True)\n",
    "        os.remove(filename + '.csv')\n",
    "        os.remove(\"./profiles/output.txt\")\n",
    "\n",
    "        continue\n",
    "    else:\n",
    "        continue\n",
    "data.to_csv(\"data.csv\")"
   ]
  },
  {
   "cell_type": "code",
   "execution_count": 133,
   "metadata": {},
   "outputs": [
    {
     "data": {
      "text/html": [
       "<div>\n",
       "<style scoped>\n",
       "    .dataframe tbody tr th:only-of-type {\n",
       "        vertical-align: middle;\n",
       "    }\n",
       "\n",
       "    .dataframe tbody tr th {\n",
       "        vertical-align: top;\n",
       "    }\n",
       "\n",
       "    .dataframe thead th {\n",
       "        text-align: right;\n",
       "    }\n",
       "</style>\n",
       "<table border=\"1\" class=\"dataframe\">\n",
       "  <thead>\n",
       "    <tr style=\"text-align: right;\">\n",
       "      <th></th>\n",
       "      <th>Unnamed: 0</th>\n",
       "      <th>data</th>\n",
       "    </tr>\n",
       "  </thead>\n",
       "  <tbody>\n",
       "    <tr>\n",
       "      <th>0</th>\n",
       "      <td>0</td>\n",
       "      <td>consultation.caphike@gmail., Jayashree Sadhu, ...</td>\n",
       "    </tr>\n",
       "    <tr>\n",
       "      <th>1</th>\n",
       "      <td>1</td>\n",
       "      <td>Imtiaz Ahmed, www.linkedin.com/in/imtiaz1729 S...</td>\n",
       "    </tr>\n",
       "    <tr>\n",
       "      <th>2</th>\n",
       "      <td>2</td>\n",
       "      <td>+91 9958457590 (Mobile), Jatin Bumbra, jatinbu...</td>\n",
       "    </tr>\n",
       "  </tbody>\n",
       "</table>\n",
       "</div>"
      ],
      "text/plain": [
       "   Unnamed: 0                                               data\n",
       "0           0  consultation.caphike@gmail., Jayashree Sadhu, ...\n",
       "1           1  Imtiaz Ahmed, www.linkedin.com/in/imtiaz1729 S...\n",
       "2           2  +91 9958457590 (Mobile), Jatin Bumbra, jatinbu..."
      ]
     },
     "execution_count": 133,
     "metadata": {},
     "output_type": "execute_result"
    }
   ],
   "source": [
    "df = pd.read_csv(\"./data.csv\")\n",
    "df"
   ]
  },
  {
   "cell_type": "code",
   "execution_count": 136,
   "metadata": {},
   "outputs": [
    {
     "data": {
      "text/plain": [
       "0    consultation.caphike@gmail., Jayashree Sadhu, ...\n",
       "1    Imtiaz Ahmed, www.linkedin.com/in/imtiaz1729 S...\n",
       "2    +91 9958457590 (Mobile), Jatin Bumbra, jatinbu...\n",
       "Name: data, dtype: object"
      ]
     },
     "execution_count": 136,
     "metadata": {},
     "output_type": "execute_result"
    }
   ],
   "source": [
    "texts = df.data\n",
    "texts"
   ]
  },
  {
   "cell_type": "code",
   "execution_count": 138,
   "metadata": {},
   "outputs": [
    {
     "name": "stdout",
     "output_type": "stream",
     "text": [
      "3\n"
     ]
    }
   ],
   "source": [
    "print(len(texts))"
   ]
  },
  {
   "cell_type": "code",
   "execution_count": 141,
   "metadata": {},
   "outputs": [
    {
     "name": "stdout",
     "output_type": "stream",
     "text": [
      "                TF-IDF\n",
      "consultation  0.625840\n",
      "gmail         0.625840\n",
      "caphike       0.465456\n",
      "0a13971b4     0.000000\n",
      "com           0.000000\n",
      "[('caphike', 3), ('com', 2), ('developer', 2), ('jayashree', 2), ('linkedin', 2), ('sadhu', 2), ('web', 2), ('0a13971b4', 1), ('consultation', 1), ('experience', 1)]\n",
      "                TF-IDF\n",
      "imtiaz        0.707107\n",
      "ahmed         0.707107\n",
      "122nd         0.000000\n",
      "machine       0.000000\n",
      "participants  0.000000\n",
      "[('2020', 5), ('course', 4), ('data', 3), ('kaggle', 3), ('learning', 3), ('python', 3), ('statistics', 3), ('2019', 2), ('analytics', 2), ('deep', 2)]\n",
      "             TF-IDF\n",
      "91          0.57735\n",
      "9958457590  0.57735\n",
      "mobile      0.57735\n",
      "110054      0.00000\n",
      "present     0.00000\n",
      "[('developer', 3), ('web', 3), ('2020', 2), ('bumbra', 2), ('college', 2), ('com', 2), ('jatin', 2), ('jatinbumbra', 2), ('linkedin', 2), ('pgdav', 2)]\n"
     ]
    }
   ],
   "source": [
    "for text in texts:\n",
    "    newText = pre_process(text).split(\",\")\n",
    "    \n",
    "    tfIdfVectorizer=TfidfVectorizer(use_idf=True, stop_words = \"english\")\n",
    "    tfIdf = tfIdfVectorizer.fit_transform(newText)\n",
    "    df = pd.DataFrame(tfIdf[0].T.todense(), index=tfIdfVectorizer.get_feature_names(), columns=[\"TF-IDF\"])\n",
    "    df = df.sort_values('TF-IDF', ascending=False)\n",
    "    print (df.head(5))\n",
    "    \n",
    "    ngram_vectorizer = CountVectorizer(analyzer='word', ngram_range=(1, 1), min_df=1, stop_words=\"english\")\n",
    "    X = ngram_vectorizer.fit_transform(newText)\n",
    "    vocab = ngram_vectorizer.get_feature_names()\n",
    "    counts = X.sum(axis=0).A1\n",
    "    freq_distribution = Counter(dict(zip(vocab, counts)))\n",
    "    print (freq_distribution.most_common(10))"
   ]
  }
 ],
 "metadata": {
  "kernelspec": {
   "display_name": "Python 3",
   "language": "python",
   "name": "python3"
  },
  "language_info": {
   "codemirror_mode": {
    "name": "ipython",
    "version": 3
   },
   "file_extension": ".py",
   "mimetype": "text/x-python",
   "name": "python",
   "nbconvert_exporter": "python",
   "pygments_lexer": "ipython3",
   "version": "3.7.6"
  }
 },
 "nbformat": 4,
 "nbformat_minor": 2
}
